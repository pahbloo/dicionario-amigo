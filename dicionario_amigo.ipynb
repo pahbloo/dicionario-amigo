{
  "nbformat": 4,
  "nbformat_minor": 0,
  "metadata": {
    "colab": {
      "provenance": [],
      "authorship_tag": "ABX9TyM2tqwP2pxXZaj9g/ghBRGm",
      "include_colab_link": true
    },
    "kernelspec": {
      "name": "python3",
      "display_name": "Python 3"
    },
    "language_info": {
      "name": "python"
    },
    "widgets": {
      "application/vnd.jupyter.widget-state+json": {
        "47d98a1044c2425bace2b8d702c7e30c": {
          "model_module": "@jupyter-widgets/controls",
          "model_name": "DropdownModel",
          "model_module_version": "1.5.0",
          "state": {
            "_dom_classes": [],
            "_model_module": "@jupyter-widgets/controls",
            "_model_module_version": "1.5.0",
            "_model_name": "DropdownModel",
            "_options_labels": [
              "Português",
              "Inglês",
              "Espanhol"
            ],
            "_view_count": null,
            "_view_module": "@jupyter-widgets/controls",
            "_view_module_version": "1.5.0",
            "_view_name": "DropdownView",
            "description": "Palavra em:",
            "description_tooltip": null,
            "disabled": false,
            "index": 0,
            "layout": "IPY_MODEL_08e56178896b406d9a60baf8b88c87a0",
            "style": "IPY_MODEL_3c16d5009ad1495987a2ac9418e1d0db"
          }
        },
        "08e56178896b406d9a60baf8b88c87a0": {
          "model_module": "@jupyter-widgets/base",
          "model_name": "LayoutModel",
          "model_module_version": "1.2.0",
          "state": {
            "_model_module": "@jupyter-widgets/base",
            "_model_module_version": "1.2.0",
            "_model_name": "LayoutModel",
            "_view_count": null,
            "_view_module": "@jupyter-widgets/base",
            "_view_module_version": "1.2.0",
            "_view_name": "LayoutView",
            "align_content": null,
            "align_items": null,
            "align_self": null,
            "border": null,
            "bottom": null,
            "display": null,
            "flex": null,
            "flex_flow": null,
            "grid_area": null,
            "grid_auto_columns": null,
            "grid_auto_flow": null,
            "grid_auto_rows": null,
            "grid_column": null,
            "grid_gap": null,
            "grid_row": null,
            "grid_template_areas": null,
            "grid_template_columns": null,
            "grid_template_rows": null,
            "height": null,
            "justify_content": null,
            "justify_items": null,
            "left": null,
            "margin": null,
            "max_height": null,
            "max_width": null,
            "min_height": null,
            "min_width": null,
            "object_fit": null,
            "object_position": null,
            "order": null,
            "overflow": null,
            "overflow_x": null,
            "overflow_y": null,
            "padding": null,
            "right": null,
            "top": null,
            "visibility": null,
            "width": null
          }
        },
        "3c16d5009ad1495987a2ac9418e1d0db": {
          "model_module": "@jupyter-widgets/controls",
          "model_name": "DescriptionStyleModel",
          "model_module_version": "1.5.0",
          "state": {
            "_model_module": "@jupyter-widgets/controls",
            "_model_module_version": "1.5.0",
            "_model_name": "DescriptionStyleModel",
            "_view_count": null,
            "_view_module": "@jupyter-widgets/base",
            "_view_module_version": "1.2.0",
            "_view_name": "StyleView",
            "description_width": ""
          }
        },
        "c529d31c218d42dc91aea1f350f2e40a": {
          "model_module": "@jupyter-widgets/controls",
          "model_name": "DropdownModel",
          "model_module_version": "1.5.0",
          "state": {
            "_dom_classes": [],
            "_model_module": "@jupyter-widgets/controls",
            "_model_module_version": "1.5.0",
            "_model_name": "DropdownModel",
            "_options_labels": [
              "Português",
              "Inglês",
              "Espanhol"
            ],
            "_view_count": null,
            "_view_module": "@jupyter-widgets/controls",
            "_view_module_version": "1.5.0",
            "_view_name": "DropdownView",
            "description": "Explicação:",
            "description_tooltip": null,
            "disabled": false,
            "index": 0,
            "layout": "IPY_MODEL_bf423f731fd7475f873dfbacf3e4fda2",
            "style": "IPY_MODEL_0581db481d6145f8892adfd19c67ff93"
          }
        },
        "bf423f731fd7475f873dfbacf3e4fda2": {
          "model_module": "@jupyter-widgets/base",
          "model_name": "LayoutModel",
          "model_module_version": "1.2.0",
          "state": {
            "_model_module": "@jupyter-widgets/base",
            "_model_module_version": "1.2.0",
            "_model_name": "LayoutModel",
            "_view_count": null,
            "_view_module": "@jupyter-widgets/base",
            "_view_module_version": "1.2.0",
            "_view_name": "LayoutView",
            "align_content": null,
            "align_items": null,
            "align_self": null,
            "border": null,
            "bottom": null,
            "display": null,
            "flex": null,
            "flex_flow": null,
            "grid_area": null,
            "grid_auto_columns": null,
            "grid_auto_flow": null,
            "grid_auto_rows": null,
            "grid_column": null,
            "grid_gap": null,
            "grid_row": null,
            "grid_template_areas": null,
            "grid_template_columns": null,
            "grid_template_rows": null,
            "height": null,
            "justify_content": null,
            "justify_items": null,
            "left": null,
            "margin": null,
            "max_height": null,
            "max_width": null,
            "min_height": null,
            "min_width": null,
            "object_fit": null,
            "object_position": null,
            "order": null,
            "overflow": null,
            "overflow_x": null,
            "overflow_y": null,
            "padding": null,
            "right": null,
            "top": null,
            "visibility": null,
            "width": null
          }
        },
        "0581db481d6145f8892adfd19c67ff93": {
          "model_module": "@jupyter-widgets/controls",
          "model_name": "DescriptionStyleModel",
          "model_module_version": "1.5.0",
          "state": {
            "_model_module": "@jupyter-widgets/controls",
            "_model_module_version": "1.5.0",
            "_model_name": "DescriptionStyleModel",
            "_view_count": null,
            "_view_module": "@jupyter-widgets/base",
            "_view_module_version": "1.2.0",
            "_view_name": "StyleView",
            "description_width": ""
          }
        },
        "6c6b158b64754ca4b9c677c691f0e070": {
          "model_module": "@jupyter-widgets/controls",
          "model_name": "ButtonModel",
          "model_module_version": "1.5.0",
          "state": {
            "_dom_classes": [],
            "_model_module": "@jupyter-widgets/controls",
            "_model_module_version": "1.5.0",
            "_model_name": "ButtonModel",
            "_view_count": null,
            "_view_module": "@jupyter-widgets/controls",
            "_view_module_version": "1.5.0",
            "_view_name": "ButtonView",
            "button_style": "",
            "description": "OK",
            "disabled": false,
            "icon": "",
            "layout": "IPY_MODEL_4199c620a31240788b359353e3738a31",
            "style": "IPY_MODEL_1e1792552eba47488bdfd6cddf0dbd4e",
            "tooltip": ""
          }
        },
        "4199c620a31240788b359353e3738a31": {
          "model_module": "@jupyter-widgets/base",
          "model_name": "LayoutModel",
          "model_module_version": "1.2.0",
          "state": {
            "_model_module": "@jupyter-widgets/base",
            "_model_module_version": "1.2.0",
            "_model_name": "LayoutModel",
            "_view_count": null,
            "_view_module": "@jupyter-widgets/base",
            "_view_module_version": "1.2.0",
            "_view_name": "LayoutView",
            "align_content": null,
            "align_items": null,
            "align_self": null,
            "border": null,
            "bottom": null,
            "display": null,
            "flex": null,
            "flex_flow": null,
            "grid_area": null,
            "grid_auto_columns": null,
            "grid_auto_flow": null,
            "grid_auto_rows": null,
            "grid_column": null,
            "grid_gap": null,
            "grid_row": null,
            "grid_template_areas": null,
            "grid_template_columns": null,
            "grid_template_rows": null,
            "height": null,
            "justify_content": null,
            "justify_items": null,
            "left": null,
            "margin": null,
            "max_height": null,
            "max_width": null,
            "min_height": null,
            "min_width": null,
            "object_fit": null,
            "object_position": null,
            "order": null,
            "overflow": null,
            "overflow_x": null,
            "overflow_y": null,
            "padding": null,
            "right": null,
            "top": null,
            "visibility": null,
            "width": null
          }
        },
        "1e1792552eba47488bdfd6cddf0dbd4e": {
          "model_module": "@jupyter-widgets/controls",
          "model_name": "ButtonStyleModel",
          "model_module_version": "1.5.0",
          "state": {
            "_model_module": "@jupyter-widgets/controls",
            "_model_module_version": "1.5.0",
            "_model_name": "ButtonStyleModel",
            "_view_count": null,
            "_view_module": "@jupyter-widgets/base",
            "_view_module_version": "1.2.0",
            "_view_name": "StyleView",
            "button_color": null,
            "font_weight": ""
          }
        },
        "8cdb0f34bd9947cb8356845b58e9380a": {
          "model_module": "@jupyter-widgets/output",
          "model_name": "OutputModel",
          "model_module_version": "1.0.0",
          "state": {
            "_dom_classes": [],
            "_model_module": "@jupyter-widgets/output",
            "_model_module_version": "1.0.0",
            "_model_name": "OutputModel",
            "_view_count": null,
            "_view_module": "@jupyter-widgets/output",
            "_view_module_version": "1.0.0",
            "_view_name": "OutputView",
            "layout": "IPY_MODEL_ca46705ccac4440fbf971296603428ca",
            "msg_id": "",
            "outputs": [
              {
                "output_type": "stream",
                "name": "stdout",
                "text": [
                  "**Você:** Inconstitucionalissimamente\n"
                ]
              },
              {
                "output_type": "stream",
                "name": "stdout",
                "text": [
                  "**Chatbot:** \"Inconstitucionalissimamente\" não é realmente uma palavra que você ouviria alguém usar em uma conversa normal. É como se alguém pegasse a palavra \"inconstitucional\" e a amplificasse ao máximo! \n",
                  "\n",
                  "Seria como dizer que algo não é só um pouquinho inconstitucional, mas é **extremamente**, **absurdamente**, **indiscutivelmente** inconstitucional.  \n",
                  "\n",
                  "Imagina que alguém propusesse uma lei que permitisse ao governo ler todas as suas mensagens privadas sem nenhum motivo. Alguém poderia dizer: \"Essa lei é **inconstitucionalissimamente** invasiva!\". \n",
                  "\n",
                  "É importante lembrar que essa palavra é usada mais para dar ênfase e não é um termo jurídico formal. \n",
                  "\n"
                ]
              }
            ]
          }
        },
        "ca46705ccac4440fbf971296603428ca": {
          "model_module": "@jupyter-widgets/base",
          "model_name": "LayoutModel",
          "model_module_version": "1.2.0",
          "state": {
            "_model_module": "@jupyter-widgets/base",
            "_model_module_version": "1.2.0",
            "_model_name": "LayoutModel",
            "_view_count": null,
            "_view_module": "@jupyter-widgets/base",
            "_view_module_version": "1.2.0",
            "_view_name": "LayoutView",
            "align_content": null,
            "align_items": null,
            "align_self": null,
            "border": null,
            "bottom": null,
            "display": null,
            "flex": null,
            "flex_flow": null,
            "grid_area": null,
            "grid_auto_columns": null,
            "grid_auto_flow": null,
            "grid_auto_rows": null,
            "grid_column": null,
            "grid_gap": null,
            "grid_row": null,
            "grid_template_areas": null,
            "grid_template_columns": null,
            "grid_template_rows": null,
            "height": null,
            "justify_content": null,
            "justify_items": null,
            "left": null,
            "margin": null,
            "max_height": null,
            "max_width": null,
            "min_height": null,
            "min_width": null,
            "object_fit": null,
            "object_position": null,
            "order": null,
            "overflow": null,
            "overflow_x": null,
            "overflow_y": null,
            "padding": null,
            "right": null,
            "top": null,
            "visibility": null,
            "width": null
          }
        },
        "3b9a3c26ba034b1d8927d710b9d8f19c": {
          "model_module": "@jupyter-widgets/controls",
          "model_name": "TextModel",
          "model_module_version": "1.5.0",
          "state": {
            "_dom_classes": [],
            "_model_module": "@jupyter-widgets/controls",
            "_model_module_version": "1.5.0",
            "_model_name": "TextModel",
            "_view_count": null,
            "_view_module": "@jupyter-widgets/controls",
            "_view_module_version": "1.5.0",
            "_view_name": "TextView",
            "continuous_update": true,
            "description": "",
            "description_tooltip": null,
            "disabled": false,
            "layout": "IPY_MODEL_0c90b36498804346be0dfa49dd77a7d3",
            "placeholder": "Digite a palavra",
            "style": "IPY_MODEL_cf2dd7257f624af880129a03719a931e",
            "value": ""
          }
        },
        "0c90b36498804346be0dfa49dd77a7d3": {
          "model_module": "@jupyter-widgets/base",
          "model_name": "LayoutModel",
          "model_module_version": "1.2.0",
          "state": {
            "_model_module": "@jupyter-widgets/base",
            "_model_module_version": "1.2.0",
            "_model_name": "LayoutModel",
            "_view_count": null,
            "_view_module": "@jupyter-widgets/base",
            "_view_module_version": "1.2.0",
            "_view_name": "LayoutView",
            "align_content": null,
            "align_items": null,
            "align_self": null,
            "border": null,
            "bottom": null,
            "display": null,
            "flex": null,
            "flex_flow": null,
            "grid_area": null,
            "grid_auto_columns": null,
            "grid_auto_flow": null,
            "grid_auto_rows": null,
            "grid_column": null,
            "grid_gap": null,
            "grid_row": null,
            "grid_template_areas": null,
            "grid_template_columns": null,
            "grid_template_rows": null,
            "height": null,
            "justify_content": null,
            "justify_items": null,
            "left": null,
            "margin": null,
            "max_height": null,
            "max_width": null,
            "min_height": null,
            "min_width": null,
            "object_fit": null,
            "object_position": null,
            "order": null,
            "overflow": null,
            "overflow_x": null,
            "overflow_y": null,
            "padding": null,
            "right": null,
            "top": null,
            "visibility": null,
            "width": null
          }
        },
        "cf2dd7257f624af880129a03719a931e": {
          "model_module": "@jupyter-widgets/controls",
          "model_name": "DescriptionStyleModel",
          "model_module_version": "1.5.0",
          "state": {
            "_model_module": "@jupyter-widgets/controls",
            "_model_module_version": "1.5.0",
            "_model_name": "DescriptionStyleModel",
            "_view_count": null,
            "_view_module": "@jupyter-widgets/base",
            "_view_module_version": "1.2.0",
            "_view_name": "StyleView",
            "description_width": ""
          }
        },
        "b1de5615aaca409ca08e012e900fb7e1": {
          "model_module": "@jupyter-widgets/controls",
          "model_name": "ButtonModel",
          "model_module_version": "1.5.0",
          "state": {
            "_dom_classes": [],
            "_model_module": "@jupyter-widgets/controls",
            "_model_module_version": "1.5.0",
            "_model_name": "ButtonModel",
            "_view_count": null,
            "_view_module": "@jupyter-widgets/controls",
            "_view_module_version": "1.5.0",
            "_view_name": "ButtonView",
            "button_style": "",
            "description": "Enviar",
            "disabled": false,
            "icon": "",
            "layout": "IPY_MODEL_17b2a2389b0348a4a2434890f74db10b",
            "style": "IPY_MODEL_164876a60f7b4936bab245510180869c",
            "tooltip": ""
          }
        },
        "17b2a2389b0348a4a2434890f74db10b": {
          "model_module": "@jupyter-widgets/base",
          "model_name": "LayoutModel",
          "model_module_version": "1.2.0",
          "state": {
            "_model_module": "@jupyter-widgets/base",
            "_model_module_version": "1.2.0",
            "_model_name": "LayoutModel",
            "_view_count": null,
            "_view_module": "@jupyter-widgets/base",
            "_view_module_version": "1.2.0",
            "_view_name": "LayoutView",
            "align_content": null,
            "align_items": null,
            "align_self": null,
            "border": null,
            "bottom": null,
            "display": null,
            "flex": null,
            "flex_flow": null,
            "grid_area": null,
            "grid_auto_columns": null,
            "grid_auto_flow": null,
            "grid_auto_rows": null,
            "grid_column": null,
            "grid_gap": null,
            "grid_row": null,
            "grid_template_areas": null,
            "grid_template_columns": null,
            "grid_template_rows": null,
            "height": null,
            "justify_content": null,
            "justify_items": null,
            "left": null,
            "margin": null,
            "max_height": null,
            "max_width": null,
            "min_height": null,
            "min_width": null,
            "object_fit": null,
            "object_position": null,
            "order": null,
            "overflow": null,
            "overflow_x": null,
            "overflow_y": null,
            "padding": null,
            "right": null,
            "top": null,
            "visibility": null,
            "width": null
          }
        },
        "164876a60f7b4936bab245510180869c": {
          "model_module": "@jupyter-widgets/controls",
          "model_name": "ButtonStyleModel",
          "model_module_version": "1.5.0",
          "state": {
            "_model_module": "@jupyter-widgets/controls",
            "_model_module_version": "1.5.0",
            "_model_name": "ButtonStyleModel",
            "_view_count": null,
            "_view_module": "@jupyter-widgets/base",
            "_view_module_version": "1.2.0",
            "_view_name": "StyleView",
            "button_color": null,
            "font_weight": ""
          }
        },
        "9d6c825481244ec181dd140efe2f83b6": {
          "model_module": "@jupyter-widgets/controls",
          "model_name": "ButtonModel",
          "model_module_version": "1.5.0",
          "state": {
            "_dom_classes": [],
            "_model_module": "@jupyter-widgets/controls",
            "_model_module_version": "1.5.0",
            "_model_name": "ButtonModel",
            "_view_count": null,
            "_view_module": "@jupyter-widgets/controls",
            "_view_module_version": "1.5.0",
            "_view_name": "ButtonView",
            "button_style": "",
            "description": "Reiniciar Chat",
            "disabled": false,
            "icon": "",
            "layout": "IPY_MODEL_d5d42ecd780e41feb268f93a7deb1fcf",
            "style": "IPY_MODEL_cf1992ba856344c1969c57a75334d7a6",
            "tooltip": ""
          }
        },
        "d5d42ecd780e41feb268f93a7deb1fcf": {
          "model_module": "@jupyter-widgets/base",
          "model_name": "LayoutModel",
          "model_module_version": "1.2.0",
          "state": {
            "_model_module": "@jupyter-widgets/base",
            "_model_module_version": "1.2.0",
            "_model_name": "LayoutModel",
            "_view_count": null,
            "_view_module": "@jupyter-widgets/base",
            "_view_module_version": "1.2.0",
            "_view_name": "LayoutView",
            "align_content": null,
            "align_items": null,
            "align_self": null,
            "border": null,
            "bottom": null,
            "display": null,
            "flex": null,
            "flex_flow": null,
            "grid_area": null,
            "grid_auto_columns": null,
            "grid_auto_flow": null,
            "grid_auto_rows": null,
            "grid_column": null,
            "grid_gap": null,
            "grid_row": null,
            "grid_template_areas": null,
            "grid_template_columns": null,
            "grid_template_rows": null,
            "height": null,
            "justify_content": null,
            "justify_items": null,
            "left": null,
            "margin": null,
            "max_height": null,
            "max_width": null,
            "min_height": null,
            "min_width": null,
            "object_fit": null,
            "object_position": null,
            "order": null,
            "overflow": null,
            "overflow_x": null,
            "overflow_y": null,
            "padding": null,
            "right": null,
            "top": null,
            "visibility": null,
            "width": null
          }
        },
        "cf1992ba856344c1969c57a75334d7a6": {
          "model_module": "@jupyter-widgets/controls",
          "model_name": "ButtonStyleModel",
          "model_module_version": "1.5.0",
          "state": {
            "_model_module": "@jupyter-widgets/controls",
            "_model_module_version": "1.5.0",
            "_model_name": "ButtonStyleModel",
            "_view_count": null,
            "_view_module": "@jupyter-widgets/base",
            "_view_module_version": "1.2.0",
            "_view_name": "StyleView",
            "button_color": null,
            "font_weight": ""
          }
        }
      }
    }
  },
  "cells": [
    {
      "cell_type": "markdown",
      "metadata": {
        "id": "view-in-github",
        "colab_type": "text"
      },
      "source": [
        "<a href=\"https://colab.research.google.com/github/pahbloo/dicionario-amigo/blob/main/dicionario_amigo.ipynb\" target=\"_parent\"><img src=\"https://colab.research.google.com/assets/colab-badge.svg\" alt=\"Open In Colab\"/></a>"
      ]
    },
    {
      "cell_type": "markdown",
      "source": [
        "# Bem vindo ao Dicionário Amigo\n",
        "\n",
        "Veja uma breve explicação sobre o Dicionário Amigo no vídeo abaixo:\n",
        "<center>\n",
        "  <a href=\"https://youtu.be/IVJK9Ce3jS4\" target=\"_blank\">\n",
        "  <img alt='Thumbnail do vídeo de apresentação do Dicionário Amigo' src=\"https://i.ytimg.com/vi/IVJK9Ce3jS4/hqdefault.jpg?sqp=-oaymwE2CNACELwBSFXyq4qpAygIARUAAIhCGAFwAcABBvABAfgB_gmAAtAFigIMCAAQARhbIFsoWzAP&rs=AOn4CLDr82sjcXQnMM7dKnlkWjkPlbiQdQ\"></a></center>"
      ],
      "metadata": {
        "id": "FCG6x7u2JM4V"
      }
    },
    {
      "cell_type": "markdown",
      "source": [
        "## Setup"
      ],
      "metadata": {
        "id": "ZIzPNDJzOLMF"
      }
    },
    {
      "cell_type": "code",
      "execution_count": 1,
      "metadata": {
        "id": "-K6ENpOF0DLY"
      },
      "outputs": [],
      "source": [
        "! pip install google-generativeai --quiet\n",
        "\n",
        "\n",
        "import google.generativeai as genai\n",
        "from google.colab import userdata\n",
        "\n",
        "\n",
        "API_KEY=userdata.get('API_KEY')\n",
        "genai.configure(api_key=API_KEY)\n",
        "\n",
        "# Set up the model\n",
        "generation_config = {\n",
        "  \"temperature\": 0.75,\n",
        "  \"top_p\": 0.95,\n",
        "  \"top_k\": 0,\n",
        "  \"max_output_tokens\": 8192,\n",
        "}\n",
        "\n",
        "safety_settings = [\n",
        "  {\n",
        "    \"category\": \"HARM_CATEGORY_HARASSMENT\",\n",
        "    \"threshold\": \"BLOCK_MEDIUM_AND_ABOVE\"\n",
        "  },\n",
        "  {\n",
        "    \"category\": \"HARM_CATEGORY_HATE_SPEECH\",\n",
        "    \"threshold\": \"BLOCK_MEDIUM_AND_ABOVE\"\n",
        "  },\n",
        "  {\n",
        "    \"category\": \"HARM_CATEGORY_SEXUALLY_EXPLICIT\",\n",
        "    \"threshold\": \"BLOCK_MEDIUM_AND_ABOVE\"\n",
        "  },\n",
        "  {\n",
        "    \"category\": \"HARM_CATEGORY_DANGEROUS_CONTENT\",\n",
        "    \"threshold\": \"BLOCK_MEDIUM_AND_ABOVE\"\n",
        "  },\n",
        "]"
      ]
    },
    {
      "cell_type": "code",
      "source": [
        "import ipywidgets as widgets\n",
        "from IPython.display import display, clear_output\n",
        "\n",
        "# Função para iniciar o chat\n",
        "def on_ok_languages(b):\n",
        "  global model\n",
        "  global convo\n",
        "  explanation_language = idioma_explicacao_dropdown.value\n",
        "  word_language = idioma_palavra_dropdown.value\n",
        "  system_instruction = f\"Explique o significado da palavra solicitada.\\n\\nNão dê uma resposta que se pareça com a definição de um dicionário.\\n\\nNão explique de uma forma que se pareça com um verbete de uma enciclopédia.\\n\\nExplique o significado da palavra como uma pessoa diria para outra, dando exemplos, explicando o que é o inverso dela, quando é apropriado usá-la ou não.\\n\\nNão tente explicar o oposto de uma palavra quando isso não fizer muito sentido.\\n\\nAceite palavras apenas em {word_language}. Se a palavra não for em {word_language}, diga: \\\"\\\"[a palavra inserida]\\\" não é uma palavra em {word_language}. Por favor, diga uma palavra em {word_language} ou reinicie o chat, selecionando os idiomas desejados.\\\"\\n\\nDê toda a explicação em {explanation_language}. Mantenha a palavra e os exemplos em {word_language}.\"\n",
        "\n",
        "  model = genai.GenerativeModel(model_name=\"gemini-1.5-pro-latest\",\n",
        "                              generation_config=generation_config,\n",
        "                              system_instruction=system_instruction,\n",
        "                              safety_settings=safety_settings)\n",
        "  convo = model.start_chat(history=[])\n",
        "  clear_output()\n",
        "  display(chat_output, input_box, submit_button, restart_button)\n",
        "\n",
        "# Função para reiniciar o chat\n",
        "def reiniciar_chat(b):\n",
        "  clear_output()\n",
        "  display(idioma_palavra_dropdown, idioma_explicacao_dropdown, ok_button)\n",
        "  chat_output.clear_output()\n",
        "\n",
        "# Função para lidar com o input do usuário\n",
        "def on_submit(b):\n",
        "  prompt = input_box.value\n",
        "\n",
        "  with chat_output:\n",
        "    print(f\"**Você:** {prompt}\")\n",
        "    input_box.value = \"\"\n",
        "\n",
        "    convo.send_message(prompt)\n",
        "    response = convo.last.text\n",
        "    print(f\"**Chatbot:** {response}\")\n",
        "\n",
        "\n",
        "# Crie os menus dropdown\n",
        "idiomas = ['Português', 'Inglês', 'Espanhol']\n",
        "\n",
        "idioma_palavra_dropdown = widgets.Dropdown(\n",
        "    options=idiomas,\n",
        "    description='Palavra em:'\n",
        ")\n",
        "idioma_explicacao_dropdown = widgets.Dropdown(\n",
        "    options=idiomas,\n",
        "    description='Explicação:'\n",
        ")\n",
        "\n",
        "\n",
        "# Crie o botão OK\n",
        "ok_button = widgets.Button(description='OK')\n",
        "\n",
        "# Crie o output do chat\n",
        "chat_output = widgets.Output()\n",
        "\n",
        "# Crie o input box e o botão de submit\n",
        "input_box = widgets.Text(placeholder='Digite a palavra')\n",
        "submit_button = widgets.Button(description='Enviar')\n",
        "\n",
        "# Crie o botão de reiniciar\n",
        "restart_button = widgets.Button(description='Reiniciar Chat')\n",
        "\n",
        "# Associe as funções aos botões\n",
        "ok_button.on_click(on_ok_languages)\n",
        "submit_button.on_click(on_submit)\n",
        "restart_button.on_click(reiniciar_chat)"
      ],
      "metadata": {
        "id": "Fj2pFHfb_LVp"
      },
      "execution_count": 2,
      "outputs": []
    },
    {
      "cell_type": "markdown",
      "source": [
        "## Chat"
      ],
      "metadata": {
        "id": "nexag8fAOWPx"
      }
    },
    {
      "cell_type": "code",
      "source": [
        "# Exiba os menus dropdown e o botão OK\n",
        "display(idioma_palavra_dropdown, idioma_explicacao_dropdown, ok_button)"
      ],
      "metadata": {
        "colab": {
          "base_uri": "https://localhost:8080/",
          "height": 325,
          "referenced_widgets": [
            "47d98a1044c2425bace2b8d702c7e30c",
            "08e56178896b406d9a60baf8b88c87a0",
            "3c16d5009ad1495987a2ac9418e1d0db",
            "c529d31c218d42dc91aea1f350f2e40a",
            "bf423f731fd7475f873dfbacf3e4fda2",
            "0581db481d6145f8892adfd19c67ff93",
            "6c6b158b64754ca4b9c677c691f0e070",
            "4199c620a31240788b359353e3738a31",
            "1e1792552eba47488bdfd6cddf0dbd4e",
            "8cdb0f34bd9947cb8356845b58e9380a",
            "ca46705ccac4440fbf971296603428ca",
            "3b9a3c26ba034b1d8927d710b9d8f19c",
            "0c90b36498804346be0dfa49dd77a7d3",
            "cf2dd7257f624af880129a03719a931e",
            "b1de5615aaca409ca08e012e900fb7e1",
            "17b2a2389b0348a4a2434890f74db10b",
            "164876a60f7b4936bab245510180869c",
            "9d6c825481244ec181dd140efe2f83b6",
            "d5d42ecd780e41feb268f93a7deb1fcf",
            "cf1992ba856344c1969c57a75334d7a6"
          ]
        },
        "id": "gbw2aet3OapK",
        "outputId": "38e4e884-8521-4dc6-a130-f63e4784d84f"
      },
      "execution_count": 3,
      "outputs": [
        {
          "output_type": "display_data",
          "data": {
            "text/plain": [
              "Output()"
            ],
            "application/vnd.jupyter.widget-view+json": {
              "version_major": 2,
              "version_minor": 0,
              "model_id": "8cdb0f34bd9947cb8356845b58e9380a"
            }
          },
          "metadata": {}
        },
        {
          "output_type": "display_data",
          "data": {
            "text/plain": [
              "Text(value='', placeholder='Digite a palavra')"
            ],
            "application/vnd.jupyter.widget-view+json": {
              "version_major": 2,
              "version_minor": 0,
              "model_id": "3b9a3c26ba034b1d8927d710b9d8f19c"
            }
          },
          "metadata": {}
        },
        {
          "output_type": "display_data",
          "data": {
            "text/plain": [
              "Button(description='Enviar', style=ButtonStyle())"
            ],
            "application/vnd.jupyter.widget-view+json": {
              "version_major": 2,
              "version_minor": 0,
              "model_id": "b1de5615aaca409ca08e012e900fb7e1"
            }
          },
          "metadata": {}
        },
        {
          "output_type": "display_data",
          "data": {
            "text/plain": [
              "Button(description='Reiniciar Chat', style=ButtonStyle())"
            ],
            "application/vnd.jupyter.widget-view+json": {
              "version_major": 2,
              "version_minor": 0,
              "model_id": "9d6c825481244ec181dd140efe2f83b6"
            }
          },
          "metadata": {}
        }
      ]
    }
  ]
}