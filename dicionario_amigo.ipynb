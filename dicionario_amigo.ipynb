{
  "nbformat": 4,
  "nbformat_minor": 0,
  "metadata": {
    "colab": {
      "provenance": [],
      "authorship_tag": "ABX9TyOKXQ3f6pEq/1Y4cnsAPVqe",
      "include_colab_link": true
    },
    "kernelspec": {
      "name": "python3",
      "display_name": "Python 3"
    },
    "language_info": {
      "name": "python"
    },
    "widgets": {
      "application/vnd.jupyter.widget-state+json": {
        "c5ae055af0054ff983bd4438955e32aa": {
          "model_module": "@jupyter-widgets/controls",
          "model_name": "DropdownModel",
          "model_module_version": "1.5.0",
          "state": {
            "_dom_classes": [],
            "_model_module": "@jupyter-widgets/controls",
            "_model_module_version": "1.5.0",
            "_model_name": "DropdownModel",
            "_options_labels": [
              "Português",
              "Inglês",
              "Espanhol"
            ],
            "_view_count": null,
            "_view_module": "@jupyter-widgets/controls",
            "_view_module_version": "1.5.0",
            "_view_name": "DropdownView",
            "description": "Palavra em:",
            "description_tooltip": null,
            "disabled": false,
            "index": 0,
            "layout": "IPY_MODEL_fefc9b9734c947d1b1f5ed8dc9a10e2d",
            "style": "IPY_MODEL_e348d5282dfc46ef8c6e4dc6f77c1363"
          }
        },
        "fefc9b9734c947d1b1f5ed8dc9a10e2d": {
          "model_module": "@jupyter-widgets/base",
          "model_name": "LayoutModel",
          "model_module_version": "1.2.0",
          "state": {
            "_model_module": "@jupyter-widgets/base",
            "_model_module_version": "1.2.0",
            "_model_name": "LayoutModel",
            "_view_count": null,
            "_view_module": "@jupyter-widgets/base",
            "_view_module_version": "1.2.0",
            "_view_name": "LayoutView",
            "align_content": null,
            "align_items": null,
            "align_self": null,
            "border": null,
            "bottom": null,
            "display": null,
            "flex": null,
            "flex_flow": null,
            "grid_area": null,
            "grid_auto_columns": null,
            "grid_auto_flow": null,
            "grid_auto_rows": null,
            "grid_column": null,
            "grid_gap": null,
            "grid_row": null,
            "grid_template_areas": null,
            "grid_template_columns": null,
            "grid_template_rows": null,
            "height": null,
            "justify_content": null,
            "justify_items": null,
            "left": null,
            "margin": null,
            "max_height": null,
            "max_width": null,
            "min_height": null,
            "min_width": null,
            "object_fit": null,
            "object_position": null,
            "order": null,
            "overflow": null,
            "overflow_x": null,
            "overflow_y": null,
            "padding": null,
            "right": null,
            "top": null,
            "visibility": null,
            "width": null
          }
        },
        "e348d5282dfc46ef8c6e4dc6f77c1363": {
          "model_module": "@jupyter-widgets/controls",
          "model_name": "DescriptionStyleModel",
          "model_module_version": "1.5.0",
          "state": {
            "_model_module": "@jupyter-widgets/controls",
            "_model_module_version": "1.5.0",
            "_model_name": "DescriptionStyleModel",
            "_view_count": null,
            "_view_module": "@jupyter-widgets/base",
            "_view_module_version": "1.2.0",
            "_view_name": "StyleView",
            "description_width": ""
          }
        },
        "fdd7eb571d974a1e9a201eedc5d3273e": {
          "model_module": "@jupyter-widgets/controls",
          "model_name": "DropdownModel",
          "model_module_version": "1.5.0",
          "state": {
            "_dom_classes": [],
            "_model_module": "@jupyter-widgets/controls",
            "_model_module_version": "1.5.0",
            "_model_name": "DropdownModel",
            "_options_labels": [
              "Português",
              "Inglês",
              "Espanhol"
            ],
            "_view_count": null,
            "_view_module": "@jupyter-widgets/controls",
            "_view_module_version": "1.5.0",
            "_view_name": "DropdownView",
            "description": "Explicação:",
            "description_tooltip": null,
            "disabled": false,
            "index": 0,
            "layout": "IPY_MODEL_067a1be664e540c0a1fc0c45f63dfb48",
            "style": "IPY_MODEL_f97a8d2a44f345be80126b79d16632de"
          }
        },
        "067a1be664e540c0a1fc0c45f63dfb48": {
          "model_module": "@jupyter-widgets/base",
          "model_name": "LayoutModel",
          "model_module_version": "1.2.0",
          "state": {
            "_model_module": "@jupyter-widgets/base",
            "_model_module_version": "1.2.0",
            "_model_name": "LayoutModel",
            "_view_count": null,
            "_view_module": "@jupyter-widgets/base",
            "_view_module_version": "1.2.0",
            "_view_name": "LayoutView",
            "align_content": null,
            "align_items": null,
            "align_self": null,
            "border": null,
            "bottom": null,
            "display": null,
            "flex": null,
            "flex_flow": null,
            "grid_area": null,
            "grid_auto_columns": null,
            "grid_auto_flow": null,
            "grid_auto_rows": null,
            "grid_column": null,
            "grid_gap": null,
            "grid_row": null,
            "grid_template_areas": null,
            "grid_template_columns": null,
            "grid_template_rows": null,
            "height": null,
            "justify_content": null,
            "justify_items": null,
            "left": null,
            "margin": null,
            "max_height": null,
            "max_width": null,
            "min_height": null,
            "min_width": null,
            "object_fit": null,
            "object_position": null,
            "order": null,
            "overflow": null,
            "overflow_x": null,
            "overflow_y": null,
            "padding": null,
            "right": null,
            "top": null,
            "visibility": null,
            "width": null
          }
        },
        "f97a8d2a44f345be80126b79d16632de": {
          "model_module": "@jupyter-widgets/controls",
          "model_name": "DescriptionStyleModel",
          "model_module_version": "1.5.0",
          "state": {
            "_model_module": "@jupyter-widgets/controls",
            "_model_module_version": "1.5.0",
            "_model_name": "DescriptionStyleModel",
            "_view_count": null,
            "_view_module": "@jupyter-widgets/base",
            "_view_module_version": "1.2.0",
            "_view_name": "StyleView",
            "description_width": ""
          }
        },
        "d1d0d58d48df4be2aafaa0300bee5def": {
          "model_module": "@jupyter-widgets/controls",
          "model_name": "ButtonModel",
          "model_module_version": "1.5.0",
          "state": {
            "_dom_classes": [],
            "_model_module": "@jupyter-widgets/controls",
            "_model_module_version": "1.5.0",
            "_model_name": "ButtonModel",
            "_view_count": null,
            "_view_module": "@jupyter-widgets/controls",
            "_view_module_version": "1.5.0",
            "_view_name": "ButtonView",
            "button_style": "",
            "description": "OK",
            "disabled": false,
            "icon": "",
            "layout": "IPY_MODEL_203aeb241acb46e7bfa200768bec3c58",
            "style": "IPY_MODEL_d9198ea6e5b648519e4cff3680f528c4",
            "tooltip": ""
          }
        },
        "203aeb241acb46e7bfa200768bec3c58": {
          "model_module": "@jupyter-widgets/base",
          "model_name": "LayoutModel",
          "model_module_version": "1.2.0",
          "state": {
            "_model_module": "@jupyter-widgets/base",
            "_model_module_version": "1.2.0",
            "_model_name": "LayoutModel",
            "_view_count": null,
            "_view_module": "@jupyter-widgets/base",
            "_view_module_version": "1.2.0",
            "_view_name": "LayoutView",
            "align_content": null,
            "align_items": null,
            "align_self": null,
            "border": null,
            "bottom": null,
            "display": null,
            "flex": null,
            "flex_flow": null,
            "grid_area": null,
            "grid_auto_columns": null,
            "grid_auto_flow": null,
            "grid_auto_rows": null,
            "grid_column": null,
            "grid_gap": null,
            "grid_row": null,
            "grid_template_areas": null,
            "grid_template_columns": null,
            "grid_template_rows": null,
            "height": null,
            "justify_content": null,
            "justify_items": null,
            "left": null,
            "margin": null,
            "max_height": null,
            "max_width": null,
            "min_height": null,
            "min_width": null,
            "object_fit": null,
            "object_position": null,
            "order": null,
            "overflow": null,
            "overflow_x": null,
            "overflow_y": null,
            "padding": null,
            "right": null,
            "top": null,
            "visibility": null,
            "width": null
          }
        },
        "d9198ea6e5b648519e4cff3680f528c4": {
          "model_module": "@jupyter-widgets/controls",
          "model_name": "ButtonStyleModel",
          "model_module_version": "1.5.0",
          "state": {
            "_model_module": "@jupyter-widgets/controls",
            "_model_module_version": "1.5.0",
            "_model_name": "ButtonStyleModel",
            "_view_count": null,
            "_view_module": "@jupyter-widgets/base",
            "_view_module_version": "1.2.0",
            "_view_name": "StyleView",
            "button_color": null,
            "font_weight": ""
          }
        }
      }
    }
  },
  "cells": [
    {
      "cell_type": "markdown",
      "metadata": {
        "id": "view-in-github",
        "colab_type": "text"
      },
      "source": [
        "<a href=\"https://colab.research.google.com/github/pahbloo/dicionario-amigo/blob/main/dicionario_amigo.ipynb\" target=\"_parent\"><img src=\"https://colab.research.google.com/assets/colab-badge.svg\" alt=\"Open In Colab\"/></a>"
      ]
    },
    {
      "cell_type": "markdown",
      "source": [
        "# Bem vindo ao Dicionário Amigo\n",
        "\n",
        "<center>\n",
        "  <a href=\"https://www.youtube.com/watch?v=rNgswRZ2C1Y\" target=\"_blank\">\n",
        "  <img alt='Thumbnail for a video showing 3 cool Google Colab features' src=\"https://i.ytimg.com/vi/0x_WCLhen7Q/hqdefault.jpg?sqp=-oaymwEcCNACELwBSFXyq4qpAw4IARUAAIhCGAFwAcABBg==&rs=AOn4CLDq9hWdrDGgIzd-XH4T-xnwWB7Ytw\"></a></center>"
      ],
      "metadata": {
        "id": "FCG6x7u2JM4V"
      }
    },
    {
      "cell_type": "markdown",
      "source": [
        "## Setup"
      ],
      "metadata": {
        "id": "ZIzPNDJzOLMF"
      }
    },
    {
      "cell_type": "code",
      "execution_count": 5,
      "metadata": {
        "id": "-K6ENpOF0DLY"
      },
      "outputs": [],
      "source": [
        "! pip install google-generativeai --quiet\n",
        "\n",
        "\n",
        "import google.generativeai as genai\n",
        "from google.colab import userdata\n",
        "\n",
        "\n",
        "API_KEY=userdata.get('API_KEY')\n",
        "genai.configure(api_key=API_KEY)\n",
        "\n",
        "# Set up the model\n",
        "generation_config = {\n",
        "  \"temperature\": 0.75,\n",
        "  \"top_p\": 0.95,\n",
        "  \"top_k\": 0,\n",
        "  \"max_output_tokens\": 8192,\n",
        "}\n",
        "\n",
        "safety_settings = [\n",
        "  {\n",
        "    \"category\": \"HARM_CATEGORY_HARASSMENT\",\n",
        "    \"threshold\": \"BLOCK_MEDIUM_AND_ABOVE\"\n",
        "  },\n",
        "  {\n",
        "    \"category\": \"HARM_CATEGORY_HATE_SPEECH\",\n",
        "    \"threshold\": \"BLOCK_MEDIUM_AND_ABOVE\"\n",
        "  },\n",
        "  {\n",
        "    \"category\": \"HARM_CATEGORY_SEXUALLY_EXPLICIT\",\n",
        "    \"threshold\": \"BLOCK_MEDIUM_AND_ABOVE\"\n",
        "  },\n",
        "  {\n",
        "    \"category\": \"HARM_CATEGORY_DANGEROUS_CONTENT\",\n",
        "    \"threshold\": \"BLOCK_MEDIUM_AND_ABOVE\"\n",
        "  },\n",
        "]"
      ]
    },
    {
      "cell_type": "code",
      "source": [
        "import ipywidgets as widgets\n",
        "from IPython.display import display, clear_output\n",
        "\n",
        "# Função para iniciar o chat\n",
        "def on_ok_languages(b):\n",
        "  global model\n",
        "  global convo\n",
        "  explanation_language = idioma_explicacao_dropdown.value\n",
        "  word_language = idioma_palavra_dropdown.value\n",
        "  system_instruction = f\"Explique o significado da palavra solicitada.\\n\\nNão dê uma resposta que se pareça com a definição de um dicionário.\\n\\nNão explique de uma forma que se pareça com um verbete de uma enciclopédia.\\n\\nExplique o significado da palavra como uma pessoa diria para outra, dando exemplos, explicando o que é o inverso dela, quando é apropriado usá-la ou não.\\n\\nNão tente explicar o oposto de uma palavra quando isso não fizer muito sentido.\\n\\nAceite palavras apenas em {word_language}. Se a palavra não for em {word_language}, diga: \\\"\\\"[a palavra inserida]\\\" não é uma palavra em {word_language}. Por favor, diga uma palavra em {word_language} ou reinicie o chat, selecionando os idiomas desejados.\\\"\\n\\nDê toda a explicação em {explanation_language}. Mantenha a palavra e os exemplos em {word_language}.\"\n",
        "\n",
        "  model = genai.GenerativeModel(model_name=\"gemini-1.5-pro-latest\",\n",
        "                              generation_config=generation_config,\n",
        "                              system_instruction=system_instruction,\n",
        "                              safety_settings=safety_settings)\n",
        "  convo = model.start_chat(history=[])\n",
        "  clear_output()\n",
        "  display(chat_output, input_box, submit_button, restart_button)\n",
        "\n",
        "# Função para reiniciar o chat\n",
        "def reiniciar_chat(b):\n",
        "  clear_output()\n",
        "  display(idioma_palavra_dropdown, idioma_explicacao_dropdown, ok_button)\n",
        "  chat_output.clear_output()\n",
        "\n",
        "# Função para lidar com o input do usuário\n",
        "def on_submit(b):\n",
        "  prompt = input_box.value\n",
        "\n",
        "  with chat_output:\n",
        "    print(f\"**Você:** {prompt}\")\n",
        "    input_box.value = \"\"\n",
        "\n",
        "    convo.send_message(prompt)\n",
        "    response = convo.last.text\n",
        "    print(f\"**Chatbot:** {response}\")\n",
        "\n",
        "\n",
        "# Crie os menus dropdown\n",
        "idiomas = ['Português', 'Inglês', 'Espanhol']\n",
        "\n",
        "idioma_palavra_dropdown = widgets.Dropdown(\n",
        "    options=idiomas,\n",
        "    description='Palavra em:'\n",
        ")\n",
        "idioma_explicacao_dropdown = widgets.Dropdown(\n",
        "    options=idiomas,\n",
        "    description='Explicação:'\n",
        ")\n",
        "\n",
        "\n",
        "# Crie o botão OK\n",
        "ok_button = widgets.Button(description='OK')\n",
        "\n",
        "# Crie o output do chat\n",
        "chat_output = widgets.Output()\n",
        "\n",
        "# Crie o input box e o botão de submit\n",
        "input_box = widgets.Text(placeholder='Digite a palavra')\n",
        "submit_button = widgets.Button(description='Enviar')\n",
        "\n",
        "# Crie o botão de reiniciar\n",
        "restart_button = widgets.Button(description='Reiniciar Chat')\n",
        "\n",
        "# Associe as funções aos botões\n",
        "ok_button.on_click(on_ok_languages)\n",
        "submit_button.on_click(on_submit)\n",
        "restart_button.on_click(reiniciar_chat)"
      ],
      "metadata": {
        "id": "Fj2pFHfb_LVp"
      },
      "execution_count": 8,
      "outputs": []
    },
    {
      "cell_type": "markdown",
      "source": [
        "## Chat"
      ],
      "metadata": {
        "id": "nexag8fAOWPx"
      }
    },
    {
      "cell_type": "code",
      "source": [
        "# Exiba os menus dropdown e o botão OK\n",
        "display(idioma_palavra_dropdown, idioma_explicacao_dropdown, ok_button)"
      ],
      "metadata": {
        "colab": {
          "base_uri": "https://localhost:8080/",
          "height": 111,
          "referenced_widgets": [
            "c5ae055af0054ff983bd4438955e32aa",
            "fefc9b9734c947d1b1f5ed8dc9a10e2d",
            "e348d5282dfc46ef8c6e4dc6f77c1363",
            "fdd7eb571d974a1e9a201eedc5d3273e",
            "067a1be664e540c0a1fc0c45f63dfb48",
            "f97a8d2a44f345be80126b79d16632de",
            "d1d0d58d48df4be2aafaa0300bee5def",
            "203aeb241acb46e7bfa200768bec3c58",
            "d9198ea6e5b648519e4cff3680f528c4"
          ]
        },
        "id": "gbw2aet3OapK",
        "outputId": "6a197e8a-b0fc-43ee-cea6-8d2f725b5af6"
      },
      "execution_count": 7,
      "outputs": [
        {
          "output_type": "display_data",
          "data": {
            "text/plain": [
              "Dropdown(description='Palavra em:', options=('Português', 'Inglês', 'Espanhol'), value='Português')"
            ],
            "application/vnd.jupyter.widget-view+json": {
              "version_major": 2,
              "version_minor": 0,
              "model_id": "c5ae055af0054ff983bd4438955e32aa"
            }
          },
          "metadata": {}
        },
        {
          "output_type": "display_data",
          "data": {
            "text/plain": [
              "Dropdown(description='Explicação:', options=('Português', 'Inglês', 'Espanhol'), value='Português')"
            ],
            "application/vnd.jupyter.widget-view+json": {
              "version_major": 2,
              "version_minor": 0,
              "model_id": "fdd7eb571d974a1e9a201eedc5d3273e"
            }
          },
          "metadata": {}
        },
        {
          "output_type": "display_data",
          "data": {
            "text/plain": [
              "Button(description='OK', style=ButtonStyle())"
            ],
            "application/vnd.jupyter.widget-view+json": {
              "version_major": 2,
              "version_minor": 0,
              "model_id": "d1d0d58d48df4be2aafaa0300bee5def"
            }
          },
          "metadata": {}
        }
      ]
    }
  ]
}